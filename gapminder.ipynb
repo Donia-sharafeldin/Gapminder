{
 "cells": [
  {
   "cell_type": "markdown",
   "metadata": {},
   "source": [
    "#  Investigate Gapminder Data sets\n"
   ]
  },
  {
   "cell_type": "markdown",
   "metadata": {},
   "source": [
    "## Table of Contents\n",
    "<ul>\n",
    "<li><a href=\"#intro\">Introduction</a></li>\n",
    "<li><a href=\"#wrangling\">Data Wrangling</a></li>\n",
    "<li><a href=\"#eda\">Exploratory Data Analysis</a></li>\n",
    "<li><a href=\"#conclusions\">Conclusions</a></li>\n",
    "</ul>"
   ]
  },
  {
   "cell_type": "markdown",
   "metadata": {},
   "source": [
    "<a id='intro'></a>\n",
    "## Introduction\n"
   ]
  },
  {
   "cell_type": "markdown",
   "metadata": {},
   "source": [
    "## Importing libraries used in the notebook"
   ]
  },
  {
   "cell_type": "code",
   "execution_count": 120,
   "metadata": {},
   "outputs": [],
   "source": [
    "import numpy as np\n",
    "import pandas as pd\n",
    "import seaborn as sns\n",
    "import matplotlib.pyplot as plt \n",
    "%matplotlib inline"
   ]
  },
  {
   "cell_type": "markdown",
   "metadata": {},
   "source": [
    "## Data Wrangling\n",
    "#### Reading Data files"
   ]
  },
  {
   "cell_type": "code",
   "execution_count": 121,
   "metadata": {
    "scrolled": true
   },
   "outputs": [],
   "source": [
    "## data used for the first question\n",
    "life_exp  = pd.read_csv('life_expectancy_years.csv')\n",
    "fertility = pd.read_csv('total_fertility.csv')\n",
    "\n",
    "## data used for the second Question\n",
    "\n",
    "males_out_of_schools = pd.read_csv('children_out_of_school_primary_male.csv')\n",
    "females_out_of_schools = pd.read_csv('children_out_of_school_primary_female.csv')\n",
    "\n",
    "\n",
    "## data used for the third Question\n",
    "\n",
    "breast_cancer = pd.read_csv('breast_cancer_number_of_female_deaths.csv')\n"
   ]
  },
  {
   "cell_type": "markdown",
   "metadata": {},
   "source": [
    "# Cleaning data & dropping null values"
   ]
  },
  {
   "cell_type": "code",
   "execution_count": 122,
   "metadata": {},
   "outputs": [],
   "source": [
    "life_exp = life_exp.dropna()\n",
    "fertility = fertility.dropna()\n"
   ]
  },
  {
   "cell_type": "code",
   "execution_count": 123,
   "metadata": {},
   "outputs": [],
   "source": [
    "females_out_of_schools.fillna(females_out_of_schools.mean(),inplace= True)\n",
    "males_out_of_schools.fillna(males_out_of_schools.mean(),inplace= True)\n",
    "\n"
   ]
  },
  {
   "cell_type": "markdown",
   "metadata": {},
   "source": [
    "# Reshaping data"
   ]
  },
  {
   "cell_type": "markdown",
   "metadata": {},
   "source": [
    "    Reshaping data to be able to compare indicators, using \"melt\" method and creating new columns country and year"
   ]
  },
  {
   "cell_type": "code",
   "execution_count": 124,
   "metadata": {},
   "outputs": [],
   "source": [
    "life_exp =life_exp.melt(id_vars = ['country'], var_name = 'year', value_name = 'life_exp').sort_values(by = 'country').reset_index(drop=True)\n",
    "fertility = fertility.melt(id_vars = ['country'], var_name = 'year', value_name = 'fertility').sort_values(by = 'country').reset_index(drop=True)\n",
    "females_out_of_schools =females_out_of_schools.melt(id_vars = ['country'], var_name = 'year', value_name = 'females_out').sort_values(by = 'country').reset_index(drop=True)\n",
    "males_out_of_schools = males_out_of_schools.melt(id_vars = ['country'], var_name = 'year', value_name = 'males_out').sort_values(by = 'country').reset_index(drop=True)\n",
    "\n",
    "breast_cancer = breast_cancer.melt(id_vars = ['country'], var_name = 'year', value_name = 'breast_cancer_deaths').sort_values(by = 'country').reset_index(drop=True)"
   ]
  },
  {
   "cell_type": "markdown",
   "metadata": {},
   "source": [
    "# Merging Data sets:\n",
    "    using \"Merge\" method, on 'country'&'year' columns to combare indicators\n"
   ]
  },
  {
   "cell_type": "code",
   "execution_count": 125,
   "metadata": {},
   "outputs": [
    {
     "data": {
      "text/html": [
       "<div>\n",
       "<style scoped>\n",
       "    .dataframe tbody tr th:only-of-type {\n",
       "        vertical-align: middle;\n",
       "    }\n",
       "\n",
       "    .dataframe tbody tr th {\n",
       "        vertical-align: top;\n",
       "    }\n",
       "\n",
       "    .dataframe thead th {\n",
       "        text-align: right;\n",
       "    }\n",
       "</style>\n",
       "<table border=\"1\" class=\"dataframe\">\n",
       "  <thead>\n",
       "    <tr style=\"text-align: right;\">\n",
       "      <th></th>\n",
       "      <th>country</th>\n",
       "      <th>year</th>\n",
       "      <th>life_exp</th>\n",
       "      <th>fertility</th>\n",
       "      <th>females_out</th>\n",
       "      <th>males_out</th>\n",
       "    </tr>\n",
       "  </thead>\n",
       "  <tbody>\n",
       "    <tr>\n",
       "      <th>0</th>\n",
       "      <td>Afghanistan</td>\n",
       "      <td>1800</td>\n",
       "      <td>28.2</td>\n",
       "      <td>7.00</td>\n",
       "      <td>NaN</td>\n",
       "      <td>NaN</td>\n",
       "    </tr>\n",
       "    <tr>\n",
       "      <th>1</th>\n",
       "      <td>Afghanistan</td>\n",
       "      <td>2051</td>\n",
       "      <td>71.0</td>\n",
       "      <td>2.10</td>\n",
       "      <td>NaN</td>\n",
       "      <td>NaN</td>\n",
       "    </tr>\n",
       "    <tr>\n",
       "      <th>2</th>\n",
       "      <td>Afghanistan</td>\n",
       "      <td>1850</td>\n",
       "      <td>27.7</td>\n",
       "      <td>7.00</td>\n",
       "      <td>NaN</td>\n",
       "      <td>NaN</td>\n",
       "    </tr>\n",
       "    <tr>\n",
       "      <th>3</th>\n",
       "      <td>Afghanistan</td>\n",
       "      <td>2050</td>\n",
       "      <td>70.8</td>\n",
       "      <td>2.13</td>\n",
       "      <td>NaN</td>\n",
       "      <td>NaN</td>\n",
       "    </tr>\n",
       "    <tr>\n",
       "      <th>4</th>\n",
       "      <td>Afghanistan</td>\n",
       "      <td>1851</td>\n",
       "      <td>27.7</td>\n",
       "      <td>7.00</td>\n",
       "      <td>NaN</td>\n",
       "      <td>NaN</td>\n",
       "    </tr>\n",
       "  </tbody>\n",
       "</table>\n",
       "</div>"
      ],
      "text/plain": [
       "       country  year  life_exp  fertility  females_out  males_out\n",
       "0  Afghanistan  1800      28.2       7.00          NaN        NaN\n",
       "1  Afghanistan  2051      71.0       2.10          NaN        NaN\n",
       "2  Afghanistan  1850      27.7       7.00          NaN        NaN\n",
       "3  Afghanistan  2050      70.8       2.13          NaN        NaN\n",
       "4  Afghanistan  1851      27.7       7.00          NaN        NaN"
      ]
     },
     "execution_count": 125,
     "metadata": {},
     "output_type": "execute_result"
    }
   ],
   "source": [
    "data = pd.merge(life_exp,fertility, on = ['country','year'] , how ='left')\n",
    "data = pd.merge(data,females_out_of_schools, on = ['country','year'] , how ='left')\n",
    "data = pd.merge(data,males_out_of_schools, on = ['country','year'] , how ='left')\n",
    "\n",
    "data.head()"
   ]
  },
  {
   "cell_type": "markdown",
   "metadata": {},
   "source": [
    "# For the first Question:     \n",
    "    I choosed invistigating life expectancy and fertility before,during & after the first world war\n",
    "> **life_exp:** describes the average number of years a newborn child would live if the current mortality patterns were the same.\n",
    "\n",
    ">**fertility:** describes total fertility rate. the number of children that would be born to each woman."
   ]
  },
  {
   "cell_type": "markdown",
   "metadata": {},
   "source": [
    "\n",
    "## Investigating data during the first World War "
   ]
  },
  {
   "cell_type": "code",
   "execution_count": 126,
   "metadata": {},
   "outputs": [],
   "source": [
    "before_war=['1909','1910', '1911','1912','1913']\n",
    "during_war= ['1914','1915','1916','1917','1918']\n",
    "after_war=['1919', '1920','1921','1922','1923']\n",
    "powers = ['France','Russia', 'Japan','United Kingdom','Serbia','Italy','Germany' , 'Austria','Turkey']\n",
    "\n",
    "## before war data fiteration\n",
    "\n",
    "filt = data['country'].isin(powers)\n",
    "war_data = data.loc[filt]\n",
    "filt_ = war_data['year'].isin(before_war)\n",
    "before_war_data = war_data.loc[filt_]\n",
    "\n",
    "### during war data fiteration\n",
    "\n",
    "filt_ = war_data['year'].isin(during_war) \n",
    "during_war_data=war_data.loc[filt_]\n",
    "\n",
    "### After war data fiteration\n",
    "filt_ = war_data['year'].isin(after_war) \n",
    "after_war_data=war_data.loc[filt_]\n"
   ]
  },
  {
   "cell_type": "markdown",
   "metadata": {},
   "source": [
    "## Before war data visualisation"
   ]
  },
  {
   "cell_type": "code",
   "execution_count": 127,
   "metadata": {},
   "outputs": [
    {
     "name": "stdout",
     "output_type": "stream",
     "text": [
      "country\n",
      "Austria           45.12\n",
      "France            50.56\n",
      "Germany           49.04\n",
      "Italy             46.74\n",
      "Japan             40.32\n",
      "Russia            33.54\n",
      "Serbia            35.60\n",
      "Turkey            35.96\n",
      "United Kingdom    53.26\n",
      "Name: life_exp, dtype: float64\n",
      "country\n",
      "Austria           3.564\n",
      "France            2.510\n",
      "Germany           3.848\n",
      "Italy             4.356\n",
      "Japan             5.102\n",
      "Russia            7.104\n",
      "Serbia            5.166\n",
      "Turkey            6.856\n",
      "United Kingdom    2.962\n",
      "Name: fertility, dtype: float64\n"
     ]
    }
   ],
   "source": [
    "countries = war_data['country'].unique()\n",
    "xpos = np.arange(len(countries))\n",
    "\n",
    "life_exp_mean = before_war_data.groupby('country')['life_exp'].mean()\n",
    "fertility_mean = before_war_data.groupby('country')['fertility'].mean()\n",
    "print(life_exp_mean)\n",
    "print(fertility_mean)\n"
   ]
  },
  {
   "cell_type": "code",
   "execution_count": 128,
   "metadata": {},
   "outputs": [
    {
     "data": {
      "text/plain": [
       "<matplotlib.legend.Legend at 0x2800c0b0fa0>"
      ]
     },
     "execution_count": 128,
     "metadata": {},
     "output_type": "execute_result"
    },
    {
     "data": {
      "image/png": "[encoded data removed]",
      "text/plain": [
       "<Figure size 432x288 with 1 Axes>"
      ]
     },
     "metadata": {
      "needs_background": "light"
     },
     "output_type": "display_data"
    }
   ],
   "source": [
    "plt.xticks(xpos ,countries,rotation=45)\n",
    "plt.title('life expectancy and fertility during ww1')\n",
    "plt.bar(xpos-.2, fertility_mean ,width = 0.5, label = 'fertility')\n",
    "plt.bar(xpos+.2, life_exp_mean ,width = 0.5, label = 'life expectancy')\n",
    "plt.legend()"
   ]
  },
  {
   "cell_type": "markdown",
   "metadata": {},
   "source": [
    "## During war data visualisation"
   ]
  },
  {
   "cell_type": "code",
   "execution_count": 129,
   "metadata": {},
   "outputs": [
    {
     "name": "stdout",
     "output_type": "stream",
     "text": [
      "country\n",
      "Austria           44.680\n",
      "France            38.040\n",
      "Germany           39.780\n",
      "Italy             38.960\n",
      "Japan             39.500\n",
      "Russia            29.600\n",
      "Serbia            18.468\n",
      "Turkey            19.402\n",
      "United Kingdom    46.760\n",
      "Name: life_exp, dtype: float64\n",
      "country\n",
      "Austria           2.940\n",
      "France            1.598\n",
      "Germany           2.764\n",
      "Italy             3.560\n",
      "Japan             4.962\n",
      "Russia            5.240\n",
      "Serbia            4.964\n",
      "Turkey            6.828\n",
      "United Kingdom    2.440\n",
      "Name: fertility, dtype: float64\n"
     ]
    }
   ],
   "source": [
    "life_exp_mean = during_war_data.groupby('country')['life_exp'].mean()\n",
    "fertility_mean = during_war_data.groupby('country')['fertility'].mean()\n",
    "print(life_exp_mean)\n",
    "print(fertility_mean)"
   ]
  },
  {
   "cell_type": "code",
   "execution_count": 130,
   "metadata": {},
   "outputs": [
    {
     "data": {
      "text/plain": [
       "<matplotlib.legend.Legend at 0x28014f21880>"
      ]
     },
     "execution_count": 130,
     "metadata": {},
     "output_type": "execute_result"
    },
    {
     "data": {
      "image/png": "[encoded data removed]",
      "text/plain": [
       "<Figure size 432x288 with 1 Axes>"
      ]
     },
     "metadata": {
      "needs_background": "light"
     },
     "output_type": "display_data"
    }
   ],
   "source": [
    "xpos = np.arange(len(countries))\n",
    "plt.title('life expectancy and fertility during ww1')\n",
    "plt.xticks(xpos ,countries,rotation=45)\n",
    "plt.bar(xpos-.2, fertility_mean ,width = 0.5, label = 'fertility')\n",
    "plt.bar(xpos+.2, life_exp_mean ,width = 0.5, label = 'life expectancy')\n",
    "plt.legend()"
   ]
  },
  {
   "cell_type": "markdown",
   "metadata": {},
   "source": [
    "## After war data visualisation"
   ]
  },
  {
   "cell_type": "code",
   "execution_count": 131,
   "metadata": {},
   "outputs": [
    {
     "name": "stdout",
     "output_type": "stream",
     "text": [
      "country\n",
      "Austria           50.86\n",
      "France            52.36\n",
      "Germany           53.82\n",
      "Italy             47.64\n",
      "Japan             42.58\n",
      "Russia            25.52\n",
      "Serbia            36.60\n",
      "Turkey            32.30\n",
      "United Kingdom    57.10\n",
      "Name: life_exp, dtype: float64\n",
      "country\n",
      "Austria           3.038\n",
      "France            2.342\n",
      "Germany           2.476\n",
      "Italy             3.572\n",
      "Japan             5.144\n",
      "Russia            5.472\n",
      "Serbia            4.746\n",
      "Turkey            6.798\n",
      "United Kingdom    2.580\n",
      "Name: fertility, dtype: float64\n"
     ]
    }
   ],
   "source": [
    "life_exp_mean = after_war_data.groupby('country')['life_exp'].mean()\n",
    "fertility_mean = after_war_data.groupby('country')['fertility'].mean()\n",
    "print(life_exp_mean)\n",
    "print(fertility_mean)\n"
   ]
  },
  {
   "cell_type": "code",
   "execution_count": 132,
   "metadata": {
    "scrolled": true
   },
   "outputs": [
    {
     "data": {
      "text/plain": [
       "<matplotlib.legend.Legend at 0x2801637ed00>"
      ]
     },
     "execution_count": 132,
     "metadata": {},
     "output_type": "execute_result"
    },
    {
     "data": {
      "image/png": "[encoded data removed]",
      "text/plain": [
       "<Figure size 432x288 with 1 Axes>"
      ]
     },
     "metadata": {
      "needs_background": "light"
     },
     "output_type": "display_data"
    }
   ],
   "source": [
    "plt.xticks(xpos ,countries,rotation=45)\n",
    "plt.title('life expectancy and fertility after ww1')\n",
    "plt.bar(xpos-.2, fertility_mean ,width = 0.5, label = 'fertility')\n",
    "plt.bar(xpos+.2, life_exp_mean ,width = 0.5, label = 'life expectancy')\n",
    "plt.legend()"
   ]
  },
  {
   "cell_type": "markdown",
   "metadata": {},
   "source": [
    "## Conclusions:"
   ]
  },
  {
   "cell_type": "markdown",
   "metadata": {},
   "source": [
    "From visualization we can see:\n",
    "  >**Serbia** for example suffered from tremendous casualities during the first world war, and we can see this in the graphs:\n",
    "    1. Before war it had life expectancy average between 30 and 40 years\n",
    "    2. During the war it dropped between 10 and 20\n",
    "    3. back to normal"
   ]
  },
  {
   "cell_type": "markdown",
   "metadata": {},
   "source": [
    "# Second Question "
   ]
  },
  {
   "cell_type": "markdown",
   "metadata": {},
   "source": [
    "## Investigating boys vs. girls out of schools in the last decade in some African countries\n"
   ]
  },
  {
   "cell_type": "code",
   "execution_count": 177,
   "metadata": {},
   "outputs": [],
   "source": [
    "years = ['2008','2009','2010','2010','2011','2012','2012','2013','2014','2015','2016','2017','2018']\n",
    "countries = ['Nigeria','Ethiopia','Egypt','South Africa','Kenya'\n",
    "             ,'Uganda','Algeria','Sudan','Morocco'\n",
    "             ,'Angola','Ghana','Tunisia','Somalia',\n",
    "            'Botswana' ,'Burundi', 'Namibia','Niger', 'Zambia',\n",
    "            'Zimbabwe','Tanzania','Libya']\n",
    "\n",
    "\n",
    "## Dropping not used coloumns\n",
    "Last_decade_data= data.drop(['life_exp','fertility'],axis = 1)\n",
    "\n"
   ]
  },
  {
   "cell_type": "code",
   "execution_count": 178,
   "metadata": {},
   "outputs": [
    {
     "data": {
      "text/html": [
       "<div>\n",
       "<style scoped>\n",
       "    .dataframe tbody tr th:only-of-type {\n",
       "        vertical-align: middle;\n",
       "    }\n",
       "\n",
       "    .dataframe tbody tr th {\n",
       "        vertical-align: top;\n",
       "    }\n",
       "\n",
       "    .dataframe thead th {\n",
       "        text-align: right;\n",
       "    }\n",
       "</style>\n",
       "<table border=\"1\" class=\"dataframe\">\n",
       "  <thead>\n",
       "    <tr style=\"text-align: right;\">\n",
       "      <th></th>\n",
       "      <th>country</th>\n",
       "      <th>year</th>\n",
       "      <th>females_out</th>\n",
       "      <th>males_out</th>\n",
       "    </tr>\n",
       "  </thead>\n",
       "  <tbody>\n",
       "    <tr>\n",
       "      <th>19238</th>\n",
       "      <td>Ghana</td>\n",
       "      <td>2008</td>\n",
       "      <td>2.830000e+05</td>\n",
       "      <td>3.050000e+05</td>\n",
       "    </tr>\n",
       "    <tr>\n",
       "      <th>44632</th>\n",
       "      <td>Somalia</td>\n",
       "      <td>2008</td>\n",
       "      <td>2.173290e+05</td>\n",
       "      <td>1.953555e+05</td>\n",
       "    </tr>\n",
       "    <tr>\n",
       "      <th>14987</th>\n",
       "      <td>Egypt</td>\n",
       "      <td>2008</td>\n",
       "      <td>2.173290e+05</td>\n",
       "      <td>1.953555e+05</td>\n",
       "    </tr>\n",
       "    <tr>\n",
       "      <th>36007</th>\n",
       "      <td>Nigeria</td>\n",
       "      <td>2008</td>\n",
       "      <td>4.870000e+06</td>\n",
       "      <td>3.470000e+06</td>\n",
       "    </tr>\n",
       "    <tr>\n",
       "      <th>45014</th>\n",
       "      <td>South Africa</td>\n",
       "      <td>2008</td>\n",
       "      <td>2.173290e+05</td>\n",
       "      <td>1.953555e+05</td>\n",
       "    </tr>\n",
       "    <tr>\n",
       "      <th>...</th>\n",
       "      <td>...</td>\n",
       "      <td>...</td>\n",
       "      <td>...</td>\n",
       "      <td>...</td>\n",
       "    </tr>\n",
       "    <tr>\n",
       "      <th>35863</th>\n",
       "      <td>Nigeria</td>\n",
       "      <td>2018</td>\n",
       "      <td>1.905210e+05</td>\n",
       "      <td>1.444750e+05</td>\n",
       "    </tr>\n",
       "    <tr>\n",
       "      <th>6495</th>\n",
       "      <td>Botswana</td>\n",
       "      <td>2018</td>\n",
       "      <td>1.905210e+05</td>\n",
       "      <td>1.444750e+05</td>\n",
       "    </tr>\n",
       "    <tr>\n",
       "      <th>48997</th>\n",
       "      <td>Tanzania</td>\n",
       "      <td>2018</td>\n",
       "      <td>8.420000e+05</td>\n",
       "      <td>1.050000e+06</td>\n",
       "    </tr>\n",
       "    <tr>\n",
       "      <th>54815</th>\n",
       "      <td>Zambia</td>\n",
       "      <td>2018</td>\n",
       "      <td>1.905210e+05</td>\n",
       "      <td>1.444750e+05</td>\n",
       "    </tr>\n",
       "    <tr>\n",
       "      <th>14864</th>\n",
       "      <td>Egypt</td>\n",
       "      <td>2018</td>\n",
       "      <td>1.905210e+05</td>\n",
       "      <td>1.444750e+05</td>\n",
       "    </tr>\n",
       "  </tbody>\n",
       "</table>\n",
       "<p>231 rows × 4 columns</p>\n",
       "</div>"
      ],
      "text/plain": [
       "            country  year   females_out     males_out\n",
       "19238         Ghana  2008  2.830000e+05  3.050000e+05\n",
       "44632       Somalia  2008  2.173290e+05  1.953555e+05\n",
       "14987         Egypt  2008  2.173290e+05  1.953555e+05\n",
       "36007       Nigeria  2008  4.870000e+06  3.470000e+06\n",
       "45014  South Africa  2008  2.173290e+05  1.953555e+05\n",
       "...             ...   ...           ...           ...\n",
       "35863       Nigeria  2018  1.905210e+05  1.444750e+05\n",
       "6495       Botswana  2018  1.905210e+05  1.444750e+05\n",
       "48997      Tanzania  2018  8.420000e+05  1.050000e+06\n",
       "54815        Zambia  2018  1.905210e+05  1.444750e+05\n",
       "14864         Egypt  2018  1.905210e+05  1.444750e+05\n",
       "\n",
       "[231 rows x 4 columns]"
      ]
     },
     "execution_count": 178,
     "metadata": {},
     "output_type": "execute_result"
    }
   ],
   "source": [
    "# filtering data \n",
    "filt_ = Last_decade_data['year'].isin(years)\n",
    "Last_decade_data = Last_decade_data.loc[filt_]\n",
    "filt=Last_decade_data['country'].isin(countries)\n",
    "Last_decade_data = Last_decade_data[filt]\n",
    "Last_decade_data.sort_values(by='year')"
   ]
  },
  {
   "cell_type": "code",
   "execution_count": 179,
   "metadata": {},
   "outputs": [],
   "source": [
    "female_mean = Last_decade_data.groupby('country')['females_out'].mean()\n",
    "male_mean = Last_decade_data.groupby('country')['males_out'].mean()\n"
   ]
  },
  {
   "cell_type": "code",
   "execution_count": 180,
   "metadata": {
    "scrolled": true
   },
   "outputs": [
    {
     "data": {
      "text/plain": [
       "<matplotlib.legend.Legend at 0x280163b1e50>"
      ]
     },
     "execution_count": 180,
     "metadata": {},
     "output_type": "execute_result"
    },
    {
     "data": {
      "image/png": "[encoded data removed]",
      "text/plain": [
       "<Figure size 432x288 with 1 Axes>"
      ]
     },
     "metadata": {
      "needs_background": "light"
     },
     "output_type": "display_data"
    }
   ],
   "source": [
    "plt.title('male vs female not entering school in last decade')\n",
    "plt.xlabel('country')\n",
    "plt.ylabel('total number')\n",
    "xpos = np.arange(len(countries))\n",
    "plt.xticks(xpos ,countries, rotation = 90)\n",
    "plt.bar(xpos-.2,female_mean ,width = 0.4, label = 'females')\n",
    "plt.bar(xpos+.2,male_mean ,width = 0.4, label = 'males')\n",
    "plt.legend()\n"
   ]
  },
  {
   "cell_type": "markdown",
   "metadata": {},
   "source": [
    "## Conclusion:\n"
   ]
  },
  {
   "cell_type": "markdown",
   "metadata": {},
   "source": [
    "> it's noticed that Ugandantunisia,Somalia and Sudan are in the  top with majority of females in africa\n",
    "\n",
    ">Nambia and Niger has majority of males over females not sent to school "
   ]
  },
  {
   "cell_type": "markdown",
   "metadata": {},
   "source": [
    "# Third Question "
   ]
  },
  {
   "cell_type": "markdown",
   "metadata": {},
   "source": [
    "## Questioning about the evolution of breast cancer starting from 2000 and which country have the biggest numbers of deaths since then:"
   ]
  },
  {
   "cell_type": "code",
   "execution_count": 181,
   "metadata": {},
   "outputs": [],
   "source": [
    "years = ['2000','2001','2002','2003','2004','2005','2006','2007'\n",
    "         ,'2008','2009','2010','2010','2011','2012','2012','2013','2014','2015','2016']\n"
   ]
  },
  {
   "cell_type": "code",
   "execution_count": 184,
   "metadata": {},
   "outputs": [
    {
     "data": {
      "text/plain": [
       "country\n",
       "Algeria         1761.176471\n",
       "Angola           826.294118\n",
       "Egypt           2865.882353\n",
       "Ethiopia        3210.588235\n",
       "Ghana            857.000000\n",
       "Kenya            687.705882\n",
       "Morocco         2520.000000\n",
       "Nigeria         9711.764706\n",
       "Somalia          482.294118\n",
       "South Africa    3362.352941\n",
       "Sudan           1472.352941\n",
       "Tunisia          842.705882\n",
       "Uganda          1555.882353\n",
       "Name: breast_cancer_deaths, dtype: float64"
      ]
     },
     "execution_count": 184,
     "metadata": {},
     "output_type": "execute_result"
    }
   ],
   "source": [
    "filt_ = breast_cancer['year'].isin(years)\n",
    "breast_cancer = breast_cancer.loc[filt_]\n",
    "filt = breast_cancer['country'].isin(countries)\n",
    "breast_cancer = breast_cancer[filt]\n",
    "\n",
    "deaths_mean = breast_cancer.groupby('country')['breast_cancer_deaths'].mean()\n",
    "deaths_mean"
   ]
  },
  {
   "cell_type": "code",
   "execution_count": 185,
   "metadata": {
    "scrolled": true
   },
   "outputs": [
    {
     "data": {
      "text/plain": [
       "<matplotlib.legend.Legend at 0x28010d6fa90>"
      ]
     },
     "execution_count": 185,
     "metadata": {},
     "output_type": "execute_result"
    },
    {
     "data": {
      "image/png": "[encoded data removed]",
      "text/plain": [
       "<Figure size 432x288 with 1 Axes>"
      ]
     },
     "metadata": {
      "needs_background": "light"
     },
     "output_type": "display_data"
    }
   ],
   "source": [
    "plt.title('Breast cancer deaths')\n",
    "plt.xlabel('country')\n",
    "plt.ylabel('deaths')\n",
    "xpos = np.arange(13)\n",
    "plt.xticks(xpos ,countries, rotation = 90)\n",
    "plt.bar(xpos, deaths_mean ,width = 0.4, label = 'deaths')\n",
    "plt.legend()"
   ]
  },
  {
   "cell_type": "markdown",
   "metadata": {},
   "source": [
    "## Conclusion:\n",
    "    found that sudan has the greatest number of deathsin Africa in the  interval 2000 -2016"
   ]
  },
  {
   "cell_type": "code",
   "execution_count": null,
   "metadata": {},
   "outputs": [],
   "source": []
  },
  {
   "cell_type": "code",
   "execution_count": null,
   "metadata": {},
   "outputs": [],
   "source": []
  },
  {
   "cell_type": "code",
   "execution_count": null,
   "metadata": {},
   "outputs": [],
   "source": []
  }
 ],
 "metadata": {
  "kernelspec": {
   "display_name": "Python 3",
   "language": "python",
   "name": "python3"
  },
  "language_info": {
   "codemirror_mode": {
    "name": "ipython",
    "version": 3
   },
   "file_extension": ".py",
   "mimetype": "text/x-python",
   "name": "python",
   "nbconvert_exporter": "python",
   "pygments_lexer": "ipython3",
   "version": "3.8.3"
  }
 },
 "nbformat": 4,
 "nbformat_minor": 4
}
